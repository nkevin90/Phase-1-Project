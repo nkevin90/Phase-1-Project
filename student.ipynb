{
 "cells": [
  {
   "cell_type": "markdown",
   "metadata": {},
   "source": [
    "## Exploratory Data Analysis - Box Office Datasets\n",
    "\n",
    "Please fill out:\n",
    "* Student name: Kelvin Njenga\n",
    "* Student pace: full time\n",
    "* Scheduled project review date/time: \n",
    "* Instructor name: Mark Tiba \n"
   ]
  },
  {
   "cell_type": "markdown",
   "metadata": {},
   "source": [
    "## Business Understanding\n",
    "Microsoft sees all the big companies creating original video content and they want to get in on the fun. They have decided to create a new movie studio, but they don’t know anything about creating movies.\n",
    "<br>\n",
    "You are charged with:\n",
    "- Exploring what types of films are currently doing the best at the box office\n",
    "- Translating the findings into actionable insights that the head of Microsoft's new movie studio can use to help decide what type of films to create\n"
   ]
  },
  {
   "cell_type": "markdown",
   "metadata": {},
   "source": [
    "## Data Understanding\n",
    "In the folder **`Data`** are movie Datasets:\n",
    "<br>\n",
    "\n",
    "| File Format | Source Info  |Contains|\n",
    "|------|------|------|\n",
    "|bom.movie_gross.csv |Box Office Mojo|Gross Information of Movies|\n",
    "|rt.movie_info.tsv|Rotten Tomatoes|Movie Information|\n",
    "|rt.reviews.tsv|Rotten Tomatoes|Movie Reviews  Information|\n",
    "|tmdb.movies.csv|TheMovieDB|Movie Popularity Information|\n",
    "|tn.movie_budgets.csv|The Numbers|Movies budget Information|\n",
    "|im.db|IMDB|Movie Information as shown in the DataBase schema below|\n",
    "\n",
    "Because it was collected from various locations, the different files have different formats as shown in the table above. Some are compressed CSV (comma-separated values) or TSV (tab-separated values) files that can be opened using spreadsheet software or pd.read_csv, while the data from IMDB is located in a SQLite database.\n",
    "\n",
    ">_Below is the Database Schema of the IMDB database_\n",
    "![movie_data_erd.jpeg](movie_data_erd.jpeg)"
   ]
  },
  {
   "cell_type": "code",
   "execution_count": null,
   "metadata": {},
   "outputs": [],
   "source": []
  }
 ],
 "metadata": {
  "kernelspec": {
   "display_name": "Python 3",
   "language": "python",
   "name": "python3"
  },
  "language_info": {
   "codemirror_mode": {
    "name": "ipython",
    "version": 3
   },
   "file_extension": ".py",
   "mimetype": "text/x-python",
   "name": "python",
   "nbconvert_exporter": "python",
   "pygments_lexer": "ipython3",
   "version": "3.8.5"
  }
 },
 "nbformat": 4,
 "nbformat_minor": 2
}
